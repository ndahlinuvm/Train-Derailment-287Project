{
 "cells": [
  {
   "attachments": {},
   "cell_type": "markdown",
   "metadata": {},
   "source": [
    "# Setup"
   ]
  },
  {
   "cell_type": "code",
   "execution_count": 1,
   "metadata": {},
   "outputs": [
    {
     "name": "stderr",
     "output_type": "stream",
     "text": [
      "C:\\Users\\gian\\AppData\\Local\\Temp\\ipykernel_33808\\762011905.py:10: DtypeWarning: Columns (22,36,37,46,47,48,49,50,51,52,53,54,56,112,113,118) have mixed types. Specify dtype option on import or set low_memory=False.\n",
      "  data = pd.read_csv(\"cleaned_data.csv\")\n"
     ]
    },
    {
     "data": {
      "text/plain": [
       "28411            Derailment\n",
       "182472           Derailment\n",
       "135998       Side collision\n",
       "3867             Derailment\n",
       "51426     Hwy-rail crossing\n",
       "Name: Accident Type, dtype: object"
      ]
     },
     "execution_count": 1,
     "metadata": {},
     "output_type": "execute_result"
    }
   ],
   "source": [
    "import pandas as pd\n",
    "import numpy as np\n",
    "import matplotlib\n",
    "import matplotlib.pyplot as plt\n",
    "from scipy import stats\n",
    "from sklearn.model_selection import train_test_split\n",
    "\n",
    "\n",
    "# import data\n",
    "data = pd.read_csv(\"cleaned_data.csv\")\n",
    "data.head()\n",
    "\n",
    "# creating testing and training data\n",
    "train, test = train_test_split(data, test_size=.25)\n",
    "\n",
    "x_train = train.loc[:,train.columns!=\"Accident Type\"]\n",
    "y_train = train.loc[:,\"Accident Type\"]\n",
    "x_train.head()\n",
    "y_train.head()\n",
    "\n",
    "x_test = test.loc[:,train.columns!=\"Accident Type\"]\n",
    "y_test = test.loc[:,\"Accident Type\"]\n",
    "x_test.head()\n",
    "y_test.head()"
   ]
  },
  {
   "attachments": {},
   "cell_type": "markdown",
   "metadata": {},
   "source": [
    "# Modeling"
   ]
  },
  {
   "attachments": {},
   "cell_type": "markdown",
   "metadata": {},
   "source": [
    "## Random Forest"
   ]
  },
  {
   "attachments": {},
   "cell_type": "markdown",
   "metadata": {},
   "source": [
    "### Simple Random Forest Classifier"
   ]
  },
  {
   "attachments": {},
   "cell_type": "markdown",
   "metadata": {},
   "source": [
    "Using a random forest to classify 'Accident Type'. \n",
    "<br>Fitting the intial model with no paramter adjustements besides n_estimator (# of trees in the forest) and calculating the accuracy with the testing data."
   ]
  },
  {
   "cell_type": "code",
   "execution_count": 2,
   "metadata": {},
   "outputs": [],
   "source": [
    "from sklearn.ensemble import RandomForestClassifier\n",
    "from sklearn.metrics import confusion_matrix, classification_report\n",
    "\n",
    "train, test = train_test_split(data, test_size=.25)\n",
    "\n",
    "x_train = train.loc[:,train.columns!=\"Accident Type\"]\n",
    "y_train = train.loc[:,\"Accident Type\"]\n",
    "#print(x_train.head())\n",
    "#print(y_train.head())\n",
    "\n",
    "x_test = test.loc[:,train.columns!=\"Accident Type\"]\n",
    "y_test = test.loc[:,\"Accident Type\"]\n",
    "#print(x_test.head())\n",
    "#print(y_test.head())\n",
    "\n",
    "n_est = 50\n",
    "\n",
    "# creating and fitting model\n",
    "simple_rf = RandomForestClassifier(n_estimators=n_est)\n",
    "#simple_rf.fit(x_train,y_train)\n",
    "\n",
    "# throwing error due to strings in data, going to need to use One_Hot or Label Encoding in sklearn\n",
    "# to make strings numerical if we want to use RF approach\n",
    "\n",
    "#simple_rf.score(x_test,y_test)"
   ]
  },
  {
   "attachments": {},
   "cell_type": "markdown",
   "metadata": {},
   "source": [
    "Getting confusion matrix and classification report (precision, recall, accuracy, etc.)"
   ]
  },
  {
   "cell_type": "code",
   "execution_count": 3,
   "metadata": {},
   "outputs": [
    {
     "data": {
      "text/plain": [
       "'simple_rf_pred = simple_rf.predict(x_test)\\n\\nconf_mat = confusion_matrix(y_test,simple_rf_pred)\\nconf_mat\\n\\nclassification_report(y_test, simple_rf_pred)'"
      ]
     },
     "execution_count": 3,
     "metadata": {},
     "output_type": "execute_result"
    }
   ],
   "source": [
    "'''simple_rf_pred = simple_rf.predict(x_test)\n",
    "\n",
    "conf_mat = confusion_matrix(y_test,simple_rf_pred)\n",
    "conf_mat\n",
    "\n",
    "classification_report(y_test, simple_rf_pred)'''"
   ]
  }
 ],
 "metadata": {
  "kernelspec": {
   "display_name": "base",
   "language": "python",
   "name": "python3"
  },
  "language_info": {
   "codemirror_mode": {
    "name": "ipython",
    "version": 3
   },
   "file_extension": ".py",
   "mimetype": "text/x-python",
   "name": "python",
   "nbconvert_exporter": "python",
   "pygments_lexer": "ipython3",
   "version": "3.10.6"
  },
  "orig_nbformat": 4
 },
 "nbformat": 4,
 "nbformat_minor": 2
}
